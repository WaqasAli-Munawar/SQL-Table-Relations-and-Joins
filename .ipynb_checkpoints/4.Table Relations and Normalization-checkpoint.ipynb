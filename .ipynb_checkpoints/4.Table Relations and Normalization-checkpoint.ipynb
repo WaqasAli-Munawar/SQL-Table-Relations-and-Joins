{
 "cells": [
  {
   "cell_type": "raw",
   "metadata": {},
   "source": [
    "Rather than working with a SQL editor, we'll be working with the SQLite shell.\n",
    "\n",
    "To launch the SQLite shell, we use the sqlite3 command followed by the name of the database file as an argument.\n",
    "\n",
    "sqlite3 chinook.db\n",
    "\n",
    "Including a semicolon (;) is necessary in the SQLite shell. If we don't use it, the shell will not know if we are finished writing our query.\n",
    "\n",
    "SQLite has a number of dot commands which we can use to help us work with databases.\n",
    "\n",
    "One that we'll want to use often is .headers on, which switches column headers on.\n",
    "\n",
    "The next thing is that it's hard to read down the columns, since they don't line up. There's another dot command, .mode, that will help us out here. The .mode dot command allows us to select from a few different display modes. We'll use .mode column to allow for easier to read outputs. \n",
    "\n",
    "There are several other dot commands you'll use often:\n",
    "\n",
    ".help - Displays help text showing all dot commands and their function.\n",
    ".tables - Displays a list of all tables and views in the current database.\n",
    ".shell [command] - Run a command like ls or clear in the system shell.\n",
    ".quit - Quits the SQLite shell."
   ]
  },
  {
   "cell_type": "markdown",
   "metadata": {},
   "source": [
    "# CREATE TABLE:"
   ]
  },
  {
   "cell_type": "raw",
   "metadata": {},
   "source": [
    "CREATE TABLE [table_name] (\n",
    "    [column1_name] [column1_type],\n",
    "    [column2_name] [column2_type],\n",
    "    [column3_name] [column3_type],\n",
    "    [...]\n",
    ");\n",
    "\n",
    "Each column in SQLite must have a type. While some database systems have as many as 50 distinct data types, SQLite uses only 5 behind the scenes:\n",
    "\n",
    "TEXT                 Names, Email Addresses, Dates and Times ,Phone Numbers\n",
    "INTEGER              IDs, Quantities\n",
    "REAL                 Weights, Averages\n",
    "NUMERIC              Prices, Statuses, Boolean(as True and False are 1 and O respectively)\n",
    "BLOB                 For Binary Data\n",
    "\n",
    "Just like with views, if we try to create a table that already exists we will get an error. If we make a mistake when we create a table, we can use the DROP statement to remove the table so we can create it again:\n",
    "\n",
    "DROP TABLE [table_name];\n",
    "\n",
    "We can also use the SQLite dot command .schema [table_name] to view the schema for a table we have just created to check where we might have gone wrong."
   ]
  },
  {
   "cell_type": "markdown",
   "metadata": {},
   "source": [
    "# primary key"
   ]
  },
  {
   "cell_type": "markdown",
   "metadata": {},
   "source": [
    "Each table has one or more columns shaded in yellow, which indicates they are the **primary key**. A primary key is a unique identifier for each row - We cannot have two rows in a table with the same value for the primary key column(s).\n",
    "\n",
    "When two tables have a relation, there will be a column in one table that is a primary key in another table. This is known as a foreign key. By defining a foreign key, our database engine will prevent us from adding rows where the foreign key value doesn't exist in the other table, which helps to prevent errors in our data (note that by default SQLite doesn't force foreign key constraints)\n",
    "\n",
    "Usually, a primary key is specified as part of a create statement. Once the primary key is defined, the database engine will prevent any new rows from being added to the database if they have the same primary key as any existing rows."
   ]
  },
  {
   "cell_type": "raw",
   "metadata": {},
   "source": [
    "CREATE TABLE user (\n",
    "    user_id INTEGER PRIMARY KEY,\n",
    "    first_name TEXT,\n",
    "    last_name TEXT\n",
    ");\n",
    "\n",
    "CREATE TABLE purchase (\n",
    "    purchase_id INTEGER PRIMARY KEY,\n",
    "    user_id INTEGER,\n",
    "    purchase_date TEXT,\n",
    "    total NUMERIC,\n",
    "    FOREIGN KEY (user_id) REFERENCES user(user_id)\n",
    ");\n",
    "\n",
    "By adding a FOREIGN KEY clause, we can define one of our columns as a foreign key and specify the table and column that it references"
   ]
  },
  {
   "cell_type": "markdown",
   "metadata": {},
   "source": [
    "# database normalization."
   ]
  },
  {
   "cell_type": "markdown",
   "metadata": {},
   "source": [
    "The process of optimizing the design of databases to minimize data duplication and integrity issues is called database normalization. In database normalization theory, there are several different phases of normalization, known as [normal forms](http://www.bkent.net/Doc/simple5.htm). Knowing each normal form is not as important as understanding the goals of normalization, and designing your databases to avoid data duplication and integrity issues.\n",
    "\n",
    "When two or more columns combine to form a primary key it is called a compound primary key.\n",
    "\n",
    "To create a table with multiple foreign keys, we simply use multiple FOREIGN KEY clauses."
   ]
  },
  {
   "cell_type": "raw",
   "metadata": {},
   "source": [
    "sqlite> create table wishlist_track(\n",
    "   ...> wishlist_id Integer,\n",
    "   ...> track_id Integer,\n",
    "   ...> Primary Key (wishlist_id,track_id),\n",
    "   ...> Foreign Key (wishlist_id) References wishlist(wishlist_id),\n",
    "   ...> Foreign Key (track_id) References track(track_id)\n",
    "   ...> );"
   ]
  },
  {
   "cell_type": "markdown",
   "metadata": {},
   "source": [
    "# Add rows to Data"
   ]
  },
  {
   "cell_type": "raw",
   "metadata": {},
   "source": [
    " To add rows to a SQL table, we'll use the INSERT statement:\n",
    "\n",
    "INSERT INTO [table_name] (\n",
    "    [column1_name],\n",
    "    [column2_name],\n",
    "    [column3_name]\n",
    ") VALUES (\n",
    "    [value1],\n",
    "    [value2],\n",
    "    [value3]\n",
    ");\n",
    "\n",
    "If you are inserting values into every column in a table, you don't need to list the column names:\n",
    "\n",
    "INSERT INTO [table_name] VALUES ([value1], [value2], [value3]);\n",
    "\n",
    "Because of our foreign key constraints, we'll need to start by adding rows to the wishlist table, and then add rows to the wishlist_track table. If we don't, our insert statement will fail.\n",
    "\n",
    "If you make an error while inserting new rows, you'll need to use the DELETE statement to remove all rows:\n",
    "\n",
    "DELETE FROM [table_name]\n",
    "Or use it with a where statement to remove selected rows:\n",
    "\n",
    "DELETE FROM [table_name]\n",
    "WHERE [expression];"
   ]
  },
  {
   "cell_type": "raw",
   "metadata": {},
   "source": [
    "If we need to add a column to each of our tables. We can use the ALTER statement to do this.\n",
    "\n",
    "ALTER TABLE [table_name]\n",
    "ADD COLUMN [column_name] [column_type]; # can not add multiple columns at once\n",
    "\n",
    "SQLite supports only five basic types - the closest thing to a boolean type is NUMERIC, where the values 1 and 0 will represent true and false respectively"
   ]
  },
  {
   "cell_type": "raw",
   "metadata": {},
   "source": [
    "To change values for existing rows, we use the UPDATE statement:\n",
    "\n",
    "UPDATE [table_name]\n",
    "SET [column_name] = [expression]\n",
    "WHERE [expression]\n",
    "\n",
    "The WHERE clause is optional, and can contain any expression that would be valid in a SELECT statement.\n",
    "\n",
    "There are several variations we can use for our SET clause. First we can use a single value:\n",
    "\n",
    "UPDATE customer\n",
    "SET phone = \"+55 (12) 3921-4464\"\n",
    "WHERE customer_id = 1\n",
    "\n",
    "We can use a subquery that returns a single value:\n",
    "\n",
    "UPDATE track\n",
    "SET unit_price = (\n",
    "                    SELECT AVG(unit_price)\n",
    "                    FROM track\n",
    "                 )\n",
    "\n",
    "We can use a column, or function on an existing column:\n",
    "\n",
    "UPDATE track\n",
    "SET unit_price = unit_price * 1.1\n",
    "\n",
    "Lastly, we can set more than one column at once:\n",
    "\n",
    "UPDATE wishlist_track\n",
    "SET\n",
    "    active = 1,\n",
    "    purchased = 0;"
   ]
  },
  {
   "cell_type": "code",
   "execution_count": null,
   "metadata": {},
   "outputs": [],
   "source": []
  }
 ],
 "metadata": {
  "kernelspec": {
   "display_name": "Python 3",
   "language": "python",
   "name": "python3"
  },
  "language_info": {
   "codemirror_mode": {
    "name": "ipython",
    "version": 3
   },
   "file_extension": ".py",
   "mimetype": "text/x-python",
   "name": "python",
   "nbconvert_exporter": "python",
   "pygments_lexer": "ipython3",
   "version": "3.7.1"
  }
 },
 "nbformat": 4,
 "nbformat_minor": 2
}
